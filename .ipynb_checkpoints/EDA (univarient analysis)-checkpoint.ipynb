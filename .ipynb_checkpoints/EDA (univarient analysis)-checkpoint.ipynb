{
 "cells": [
  {
   "cell_type": "code",
   "execution_count": 1,
   "id": "3974c6ee",
   "metadata": {},
   "outputs": [],
   "source": [
    "import numpy as np\n",
    "import pandas as pd\n",
    "import matplotlib.pyplot as plt\n",
    "import seaborn as sns"
   ]
  },
  {
   "cell_type": "code",
   "execution_count": 2,
   "id": "8f996ee3",
   "metadata": {},
   "outputs": [],
   "source": [
    "df= pd.read_csv(\"C:/Mentorship program/project/cleaned data/gurgaon_properties_cleaned_v2.csv\")"
   ]
  },
  {
   "cell_type": "code",
   "execution_count": 3,
   "id": "09d6c424",
   "metadata": {},
   "outputs": [
    {
     "data": {
      "text/plain": [
       "(3803, 23)"
      ]
     },
     "execution_count": 3,
     "metadata": {},
     "output_type": "execute_result"
    }
   ],
   "source": [
    "df.shape"
   ]
  },
  {
   "cell_type": "code",
   "execution_count": 4,
   "id": "604ac657",
   "metadata": {},
   "outputs": [
    {
     "name": "stdout",
     "output_type": "stream",
     "text": [
      "<class 'pandas.core.frame.DataFrame'>\n",
      "RangeIndex: 3803 entries, 0 to 3802\n",
      "Data columns (total 23 columns):\n",
      " #   Column               Non-Null Count  Dtype  \n",
      "---  ------               --------------  -----  \n",
      " 0   property_type        3803 non-null   object \n",
      " 1   society              3802 non-null   object \n",
      " 2   sector               3803 non-null   object \n",
      " 3   price                3785 non-null   float64\n",
      " 4   price_per_sqft       3785 non-null   float64\n",
      " 5   area                 3785 non-null   float64\n",
      " 6   areaWithType         3803 non-null   object \n",
      " 7   bedRoom              3803 non-null   int64  \n",
      " 8   bathroom             3803 non-null   int64  \n",
      " 9   balcony              3803 non-null   object \n",
      " 10  floorNum             3784 non-null   float64\n",
      " 11  facing               2698 non-null   object \n",
      " 12  agePossession        3803 non-null   object \n",
      " 13  super_built_up_area  1915 non-null   float64\n",
      " 14  built_up_area        1733 non-null   float64\n",
      " 15  carpet_area          1944 non-null   float64\n",
      " 16  study room           3803 non-null   int64  \n",
      " 17  servant room         3803 non-null   int64  \n",
      " 18  store room           3803 non-null   int64  \n",
      " 19  pooja room           3803 non-null   int64  \n",
      " 20  others               3803 non-null   int64  \n",
      " 21  furnishing_type      3803 non-null   int64  \n",
      " 22  luxury_score         3803 non-null   int64  \n",
      "dtypes: float64(7), int64(9), object(7)\n",
      "memory usage: 683.5+ KB\n"
     ]
    }
   ],
   "source": [
    "df.info()"
   ]
  },
  {
   "cell_type": "code",
   "execution_count": 5,
   "id": "ccba26bf",
   "metadata": {},
   "outputs": [
    {
     "data": {
      "text/plain": [
       "126"
      ]
     },
     "execution_count": 5,
     "metadata": {},
     "output_type": "execute_result"
    }
   ],
   "source": [
    "df.duplicated().sum()"
   ]
  },
  {
   "cell_type": "code",
   "execution_count": 6,
   "id": "491d521c",
   "metadata": {},
   "outputs": [],
   "source": [
    "df.drop_duplicates(inplace=True)"
   ]
  },
  {
   "cell_type": "code",
   "execution_count": 7,
   "id": "b79b9c4e",
   "metadata": {},
   "outputs": [
    {
     "data": {
      "text/html": [
       "<div>\n",
       "<style scoped>\n",
       "    .dataframe tbody tr th:only-of-type {\n",
       "        vertical-align: middle;\n",
       "    }\n",
       "\n",
       "    .dataframe tbody tr th {\n",
       "        vertical-align: top;\n",
       "    }\n",
       "\n",
       "    .dataframe thead th {\n",
       "        text-align: right;\n",
       "    }\n",
       "</style>\n",
       "<table border=\"1\" class=\"dataframe\">\n",
       "  <thead>\n",
       "    <tr style=\"text-align: right;\">\n",
       "      <th></th>\n",
       "      <th>property_type</th>\n",
       "      <th>society</th>\n",
       "      <th>sector</th>\n",
       "      <th>price</th>\n",
       "      <th>price_per_sqft</th>\n",
       "      <th>area</th>\n",
       "      <th>areaWithType</th>\n",
       "      <th>bedRoom</th>\n",
       "      <th>bathroom</th>\n",
       "      <th>balcony</th>\n",
       "      <th>...</th>\n",
       "      <th>super_built_up_area</th>\n",
       "      <th>built_up_area</th>\n",
       "      <th>carpet_area</th>\n",
       "      <th>study room</th>\n",
       "      <th>servant room</th>\n",
       "      <th>store room</th>\n",
       "      <th>pooja room</th>\n",
       "      <th>others</th>\n",
       "      <th>furnishing_type</th>\n",
       "      <th>luxury_score</th>\n",
       "    </tr>\n",
       "  </thead>\n",
       "  <tbody>\n",
       "    <tr>\n",
       "      <th>3049</th>\n",
       "      <td>flat</td>\n",
       "      <td>ashiana apartment</td>\n",
       "      <td>sector 23</td>\n",
       "      <td>0.16</td>\n",
       "      <td>2051.0</td>\n",
       "      <td>780.0</td>\n",
       "      <td>Super Built up area 780(72.46 sq.m.)</td>\n",
       "      <td>2</td>\n",
       "      <td>2</td>\n",
       "      <td>2</td>\n",
       "      <td>...</td>\n",
       "      <td>780.0</td>\n",
       "      <td>NaN</td>\n",
       "      <td>NaN</td>\n",
       "      <td>0</td>\n",
       "      <td>0</td>\n",
       "      <td>0</td>\n",
       "      <td>0</td>\n",
       "      <td>0</td>\n",
       "      <td>0</td>\n",
       "      <td>0</td>\n",
       "    </tr>\n",
       "    <tr>\n",
       "      <th>1036</th>\n",
       "      <td>flat</td>\n",
       "      <td>smart world orchard</td>\n",
       "      <td>sector 61</td>\n",
       "      <td>1.58</td>\n",
       "      <td>13739.0</td>\n",
       "      <td>1150.0</td>\n",
       "      <td>Carpet area: 1150 (106.84 sq.m.)</td>\n",
       "      <td>2</td>\n",
       "      <td>2</td>\n",
       "      <td>2</td>\n",
       "      <td>...</td>\n",
       "      <td>NaN</td>\n",
       "      <td>NaN</td>\n",
       "      <td>1150.0</td>\n",
       "      <td>1</td>\n",
       "      <td>0</td>\n",
       "      <td>0</td>\n",
       "      <td>0</td>\n",
       "      <td>0</td>\n",
       "      <td>0</td>\n",
       "      <td>15</td>\n",
       "    </tr>\n",
       "    <tr>\n",
       "      <th>2737</th>\n",
       "      <td>flat</td>\n",
       "      <td>paras dews</td>\n",
       "      <td>sector 106</td>\n",
       "      <td>1.13</td>\n",
       "      <td>6406.0</td>\n",
       "      <td>1764.0</td>\n",
       "      <td>Super Built up area 1760(163.51 sq.m.)Built Up...</td>\n",
       "      <td>3</td>\n",
       "      <td>4</td>\n",
       "      <td>3+</td>\n",
       "      <td>...</td>\n",
       "      <td>1760.0</td>\n",
       "      <td>1186.0</td>\n",
       "      <td>1130.0</td>\n",
       "      <td>1</td>\n",
       "      <td>1</td>\n",
       "      <td>0</td>\n",
       "      <td>0</td>\n",
       "      <td>0</td>\n",
       "      <td>0</td>\n",
       "      <td>49</td>\n",
       "    </tr>\n",
       "    <tr>\n",
       "      <th>133</th>\n",
       "      <td>flat</td>\n",
       "      <td>vatika iris floors</td>\n",
       "      <td>sector 82</td>\n",
       "      <td>0.63</td>\n",
       "      <td>5590.0</td>\n",
       "      <td>1127.0</td>\n",
       "      <td>Super Built up area 1134(105.35 sq.m.)</td>\n",
       "      <td>2</td>\n",
       "      <td>2</td>\n",
       "      <td>3+</td>\n",
       "      <td>...</td>\n",
       "      <td>1134.0</td>\n",
       "      <td>NaN</td>\n",
       "      <td>NaN</td>\n",
       "      <td>1</td>\n",
       "      <td>0</td>\n",
       "      <td>0</td>\n",
       "      <td>0</td>\n",
       "      <td>0</td>\n",
       "      <td>0</td>\n",
       "      <td>110</td>\n",
       "    </tr>\n",
       "    <tr>\n",
       "      <th>2636</th>\n",
       "      <td>flat</td>\n",
       "      <td>godrej aria</td>\n",
       "      <td>sector 79</td>\n",
       "      <td>1.10</td>\n",
       "      <td>7772.0</td>\n",
       "      <td>1415.0</td>\n",
       "      <td>Super Built up area 1351(125.51 sq.m.)</td>\n",
       "      <td>2</td>\n",
       "      <td>2</td>\n",
       "      <td>3+</td>\n",
       "      <td>...</td>\n",
       "      <td>1351.0</td>\n",
       "      <td>NaN</td>\n",
       "      <td>NaN</td>\n",
       "      <td>0</td>\n",
       "      <td>0</td>\n",
       "      <td>0</td>\n",
       "      <td>0</td>\n",
       "      <td>0</td>\n",
       "      <td>1</td>\n",
       "      <td>49</td>\n",
       "    </tr>\n",
       "  </tbody>\n",
       "</table>\n",
       "<p>5 rows × 23 columns</p>\n",
       "</div>"
      ],
      "text/plain": [
       "     property_type              society      sector  price  price_per_sqft  \\\n",
       "3049          flat    ashiana apartment   sector 23   0.16          2051.0   \n",
       "1036          flat  smart world orchard   sector 61   1.58         13739.0   \n",
       "2737          flat           paras dews  sector 106   1.13          6406.0   \n",
       "133           flat   vatika iris floors   sector 82   0.63          5590.0   \n",
       "2636          flat          godrej aria   sector 79   1.10          7772.0   \n",
       "\n",
       "        area                                       areaWithType  bedRoom  \\\n",
       "3049   780.0               Super Built up area 780(72.46 sq.m.)        2   \n",
       "1036  1150.0                   Carpet area: 1150 (106.84 sq.m.)        2   \n",
       "2737  1764.0  Super Built up area 1760(163.51 sq.m.)Built Up...        3   \n",
       "133   1127.0             Super Built up area 1134(105.35 sq.m.)        2   \n",
       "2636  1415.0             Super Built up area 1351(125.51 sq.m.)        2   \n",
       "\n",
       "      bathroom balcony  ...  super_built_up_area built_up_area carpet_area  \\\n",
       "3049         2       2  ...                780.0           NaN         NaN   \n",
       "1036         2       2  ...                  NaN           NaN      1150.0   \n",
       "2737         4      3+  ...               1760.0        1186.0      1130.0   \n",
       "133          2      3+  ...               1134.0           NaN         NaN   \n",
       "2636         2      3+  ...               1351.0           NaN         NaN   \n",
       "\n",
       "      study room  servant room  store room  pooja room  others  \\\n",
       "3049           0             0           0           0       0   \n",
       "1036           1             0           0           0       0   \n",
       "2737           1             1           0           0       0   \n",
       "133            1             0           0           0       0   \n",
       "2636           0             0           0           0       0   \n",
       "\n",
       "      furnishing_type  luxury_score  \n",
       "3049                0             0  \n",
       "1036                0            15  \n",
       "2737                0            49  \n",
       "133                 0           110  \n",
       "2636                1            49  \n",
       "\n",
       "[5 rows x 23 columns]"
      ]
     },
     "execution_count": 7,
     "metadata": {},
     "output_type": "execute_result"
    }
   ],
   "source": [
    "df.sample(5)"
   ]
  },
  {
   "cell_type": "code",
   "execution_count": 8,
   "id": "1fbc88dc",
   "metadata": {},
   "outputs": [
    {
     "data": {
      "text/plain": [
       "<AxesSubplot:>"
      ]
     },
     "execution_count": 8,
     "metadata": {},
     "output_type": "execute_result"
    },
    {
     "data": {
      "image/png": "[encoded data removed]",
      "text/plain": [
       "<Figure size 432x288 with 1 Axes>"
      ]
     },
     "metadata": {
      "needs_background": "light"
     },
     "output_type": "display_data"
    }
   ],
   "source": [
    "df['property_type'].value_counts().plot(kind='bar')"
   ]
  },
  {
   "cell_type": "raw",
   "id": "d7dcb524",
   "metadata": {},
   "source": [
    "Observation\n",
    "1). Falts are in majority(75 percent) and there are less number of house(25 percent).\n",
    " 2). No missing value "
   ]
  },
  {
   "cell_type": "markdown",
   "id": "48fc5b15",
   "metadata": {},
   "source": [
    "## Society "
   ]
  },
  {
   "cell_type": "code",
   "execution_count": 9,
   "id": "2d955274",
   "metadata": {},
   "outputs": [
    {
     "data": {
      "text/plain": [
       "(676,)"
      ]
     },
     "execution_count": 9,
     "metadata": {},
     "output_type": "execute_result"
    }
   ],
   "source": [
    "df['society'].value_counts().shape"
   ]
  },
  {
   "cell_type": "code",
   "execution_count": 10,
   "id": "84f0fbbf",
   "metadata": {},
   "outputs": [
    {
     "data": {
      "text/plain": [
       "independent                               486\n",
       "tulip violet                               75\n",
       "ss the leaf                                73\n",
       "dlf new town heights                       42\n",
       "shapoorji pallonji joyville gurugram       42\n",
       "                                         ... \n",
       "dlf gardencity enclave                      1\n",
       "nitin vihar                                 1\n",
       "landmark the residency                      1\n",
       "kw royal court                              1\n",
       "surendra homes dayaindependentd colony      1\n",
       "Name: society, Length: 676, dtype: int64"
      ]
     },
     "execution_count": 10,
     "metadata": {},
     "output_type": "execute_result"
    }
   ],
   "source": [
    "df['society'].value_counts()"
   ]
  },
  {
   "cell_type": "code",
   "execution_count": 11,
   "id": "1c8b6f12",
   "metadata": {},
   "outputs": [
    {
     "data": {
      "text/plain": [
       "tulip violet                            0.023511\n",
       "ss the leaf                             0.046395\n",
       "shapoorji pallonji joyville gurugram    0.059561\n",
       "dlf new town heights                    0.072727\n",
       "signature global park                   0.083699\n",
       "                                          ...   \n",
       "ramsons kshitij                         0.490282\n",
       "umang monsoon breeze                    0.494357\n",
       "ats kocoon                              0.498433\n",
       "ireo the corridors                      0.502194\n",
       "central park flower valley              0.505956\n",
       "Name: society, Length: 75, dtype: float64"
      ]
     },
     "execution_count": 11,
     "metadata": {},
     "output_type": "execute_result"
    }
   ],
   "source": [
    "df[df['society'] != 'independent']['society'].value_counts(normalize=True).cumsum().head(75)\n"
   ]
  },
  {
   "cell_type": "code",
   "execution_count": 12,
   "id": "444ab18b",
   "metadata": {},
   "outputs": [
    {
     "data": {
      "text/plain": [
       "{'very_high(>100)': 1,\n",
       " 'high(>50-100)': 2,\n",
       " 'average(10-49)': 92,\n",
       " 'low(2-9)': 273,\n",
       " 'low(1)': 308}"
      ]
     },
     "execution_count": 12,
     "metadata": {},
     "output_type": "execute_result"
    }
   ],
   "source": [
    "society_counts=df['society'].value_counts()\n",
    "\n",
    "frequency_bins= {\n",
    "    'very_high(>100)':(society_counts > 100).sum(),\n",
    "    'high(>50-100)' :((society_counts>=50)&(society_counts<=100)).sum(),\n",
    "    'average(10-49)':((society_counts>=10)&(society_counts<=50)).sum(),\n",
    "    'low(2-9)':((society_counts>1)&(society_counts<10)).sum(),\n",
    "    'low(1)':(society_counts==1).sum()\n",
    "}\n",
    "frequency_bins"
   ]
  },
  {
   "cell_type": "code",
   "execution_count": 13,
   "id": "d25314d6",
   "metadata": {},
   "outputs": [
    {
     "data": {
      "text/plain": [
       "<AxesSubplot:>"
      ]
     },
     "execution_count": 13,
     "metadata": {},
     "output_type": "execute_result"
    },
    {
     "data": {
      "image/png": "[encoded data removed]",
      "text/plain": [
       "<Figure size 432x288 with 1 Axes>"
      ]
     },
     "metadata": {
      "needs_background": "light"
     },
     "output_type": "display_data"
    }
   ],
   "source": [
    "df[df['society'] != 'independent']['society'].value_counts().head(10).plot(kind='bar')"
   ]
  },
  {
   "cell_type": "code",
   "execution_count": 14,
   "id": "f99f344c",
   "metadata": {},
   "outputs": [
    {
     "data": {
      "text/plain": [
       "1"
      ]
     },
     "execution_count": 14,
     "metadata": {},
     "output_type": "execute_result"
    }
   ],
   "source": [
    "df['society'].isnull().sum()"
   ]
  },
  {
   "cell_type": "code",
   "execution_count": 15,
   "id": "2d0ed73e",
   "metadata": {},
   "outputs": [
    {
     "data": {
      "text/html": [
       "<div>\n",
       "<style scoped>\n",
       "    .dataframe tbody tr th:only-of-type {\n",
       "        vertical-align: middle;\n",
       "    }\n",
       "\n",
       "    .dataframe tbody tr th {\n",
       "        vertical-align: top;\n",
       "    }\n",
       "\n",
       "    .dataframe thead th {\n",
       "        text-align: right;\n",
       "    }\n",
       "</style>\n",
       "<table border=\"1\" class=\"dataframe\">\n",
       "  <thead>\n",
       "    <tr style=\"text-align: right;\">\n",
       "      <th></th>\n",
       "      <th>property_type</th>\n",
       "      <th>society</th>\n",
       "      <th>sector</th>\n",
       "      <th>price</th>\n",
       "      <th>price_per_sqft</th>\n",
       "      <th>area</th>\n",
       "      <th>areaWithType</th>\n",
       "      <th>bedRoom</th>\n",
       "      <th>bathroom</th>\n",
       "      <th>balcony</th>\n",
       "      <th>...</th>\n",
       "      <th>super_built_up_area</th>\n",
       "      <th>built_up_area</th>\n",
       "      <th>carpet_area</th>\n",
       "      <th>study room</th>\n",
       "      <th>servant room</th>\n",
       "      <th>store room</th>\n",
       "      <th>pooja room</th>\n",
       "      <th>others</th>\n",
       "      <th>furnishing_type</th>\n",
       "      <th>luxury_score</th>\n",
       "    </tr>\n",
       "  </thead>\n",
       "  <tbody>\n",
       "    <tr>\n",
       "      <th>2693</th>\n",
       "      <td>flat</td>\n",
       "      <td>NaN</td>\n",
       "      <td>sector 78</td>\n",
       "      <td>0.6</td>\n",
       "      <td>3692.0</td>\n",
       "      <td>1625.0</td>\n",
       "      <td>Built Up area: 1625 (150.97 sq.m.)</td>\n",
       "      <td>2</td>\n",
       "      <td>2</td>\n",
       "      <td>0</td>\n",
       "      <td>...</td>\n",
       "      <td>NaN</td>\n",
       "      <td>1625.0</td>\n",
       "      <td>NaN</td>\n",
       "      <td>0</td>\n",
       "      <td>0</td>\n",
       "      <td>0</td>\n",
       "      <td>0</td>\n",
       "      <td>0</td>\n",
       "      <td>0</td>\n",
       "      <td>0</td>\n",
       "    </tr>\n",
       "  </tbody>\n",
       "</table>\n",
       "<p>1 rows × 23 columns</p>\n",
       "</div>"
      ],
      "text/plain": [
       "     property_type society     sector  price  price_per_sqft    area  \\\n",
       "2693          flat     NaN  sector 78    0.6          3692.0  1625.0   \n",
       "\n",
       "                            areaWithType  bedRoom  bathroom balcony  ...  \\\n",
       "2693  Built Up area: 1625 (150.97 sq.m.)        2         2       0  ...   \n",
       "\n",
       "      super_built_up_area built_up_area carpet_area  study room  servant room  \\\n",
       "2693                  NaN        1625.0         NaN           0             0   \n",
       "\n",
       "      store room  pooja room  others  furnishing_type  luxury_score  \n",
       "2693           0           0       0                0             0  \n",
       "\n",
       "[1 rows x 23 columns]"
      ]
     },
     "execution_count": 15,
     "metadata": {},
     "output_type": "execute_result"
    }
   ],
   "source": [
    "df[df['society'].isnull()]"
   ]
  },
  {
   "cell_type": "raw",
   "id": "465dff13",
   "metadata": {},
   "source": [
    " observation\n",
    "1). There is 1 null value.\n",
    "2). There 676 society.\n",
    "3). Top 75 society have 50 percent of the appartment\n",
    "    a) very_high(>100) only 1 society has more than 100 listing\n",
    "    b) high(>50-100) only 2 society have b/w 50 and 100 listing\n",
    "    c) average(10-49) there are 92 society fall in range b/w 10 to 49 listing \n",
    "    d) low(2-9) 273 society have listing b/w 2 to 9\n",
    "    e) low(1)  around 308 society have only 1 flat"
   ]
  },
  {
   "cell_type": "markdown",
   "id": "d16e4ec7",
   "metadata": {},
   "source": [
    "## sector "
   ]
  },
  {
   "cell_type": "code",
   "execution_count": 16,
   "id": "8934e119",
   "metadata": {},
   "outputs": [
    {
     "data": {
      "text/plain": [
       "(104,)"
      ]
     },
     "execution_count": 16,
     "metadata": {},
     "output_type": "execute_result"
    }
   ],
   "source": [
    "df['sector'].value_counts().shape"
   ]
  },
  {
   "cell_type": "code",
   "execution_count": 17,
   "id": "bade1a3b",
   "metadata": {},
   "outputs": [
    {
     "data": {
      "text/plain": [
       "<AxesSubplot:>"
      ]
     },
     "execution_count": 17,
     "metadata": {},
     "output_type": "execute_result"
    },
    {
     "data": {
      "image/png": "[encoded data removed]",
      "text/plain": [
       "<Figure size 432x288 with 1 Axes>"
      ]
     },
     "metadata": {
      "needs_background": "light"
     },
     "output_type": "display_data"
    }
   ],
   "source": [
    "df['sector'].value_counts().head(10).plot(kind='bar')"
   ]
  },
  {
   "cell_type": "code",
   "execution_count": 18,
   "id": "1d857346",
   "metadata": {},
   "outputs": [
    {
     "data": {
      "text/plain": [
       "{'very_high(>100)': 3,\n",
       " 'high(>50-100)': 25,\n",
       " 'average(10-49)': 62,\n",
       " 'low(2-9)': 16,\n",
       " 'low(1)': 0}"
      ]
     },
     "execution_count": 18,
     "metadata": {},
     "output_type": "execute_result"
    }
   ],
   "source": [
    "sector_counts=df['sector'].value_counts()\n",
    "\n",
    "frequency_bins= {\n",
    "    'very_high(>100)':(sector_counts > 100).sum(),\n",
    "    'high(>50-100)' :((sector_counts>=50)&(sector_counts<=100)).sum(),\n",
    "    'average(10-49)':((sector_counts>=10)&(sector_counts<=50)).sum(),\n",
    "    'low(2-9)':((sector_counts>1)&(sector_counts<10)).sum(),\n",
    "    'low(1)':(sector_counts==1).sum()\n",
    "}\n",
    "frequency_bins\n"
   ]
  },
  {
   "cell_type": "raw",
   "id": "5952b303",
   "metadata": {},
   "source": [
    "Observarion\n",
    " 1) There are total 104 unique society \n",
    " 2). Frequency distribution of the society \n",
    "   a) 3 sectors have more than 100 listing\n",
    "   b) 25 sectors have more B/W 50 to 100 listing\n",
    "   c) majority 62 sectors, fall in the range of 10-49\n",
    "   d) There are 16 sector have 2 to 9 listing\n",
    "   e) No sector with 1 listing"
   ]
  },
  {
   "cell_type": "markdown",
   "id": "b90b5088",
   "metadata": {},
   "source": [
    "## price "
   ]
  },
  {
   "cell_type": "code",
   "execution_count": 19,
   "id": "656b26c6",
   "metadata": {},
   "outputs": [
    {
     "data": {
      "text/plain": [
       "17"
      ]
     },
     "execution_count": 19,
     "metadata": {},
     "output_type": "execute_result"
    }
   ],
   "source": [
    "df['price'].isnull().sum()"
   ]
  },
  {
   "cell_type": "code",
   "execution_count": 20,
   "id": "8d15c4de",
   "metadata": {},
   "outputs": [
    {
     "data": {
      "text/plain": [
       "count    3660.000000\n",
       "mean        2.533664\n",
       "std         2.980623\n",
       "min         0.070000\n",
       "25%         0.950000\n",
       "50%         1.520000\n",
       "75%         2.750000\n",
       "max        31.500000\n",
       "Name: price, dtype: float64"
      ]
     },
     "execution_count": 20,
     "metadata": {},
     "output_type": "execute_result"
    }
   ],
   "source": [
    "df['price'].describe()"
   ]
  },
  {
   "cell_type": "code",
   "execution_count": 21,
   "id": "3ca748f3",
   "metadata": {},
   "outputs": [
    {
     "data": {
      "text/plain": [
       "<AxesSubplot:xlabel='price', ylabel='Count'>"
      ]
     },
     "execution_count": 21,
     "metadata": {},
     "output_type": "execute_result"
    },
    {
     "data": {
      "image/png": "[encoded data removed]",
      "text/plain": [
       "<Figure size 432x288 with 1 Axes>"
      ]
     },
     "metadata": {
      "needs_background": "light"
     },
     "output_type": "display_data"
    }
   ],
   "source": [
    "sns.histplot(df['price'],kde=True,bins=50)"
   ]
  },
  {
   "cell_type": "code",
   "execution_count": 22,
   "id": "779951e4",
   "metadata": {},
   "outputs": [
    {
     "data": {
      "image/png": "[encoded data removed]",
      "text/plain": [
       "<Figure size 432x288 with 1 Axes>"
      ]
     },
     "metadata": {
      "needs_background": "light"
     },
     "output_type": "display_data"
    }
   ],
   "source": [
    "sns.boxplot(x=df['price'],color='red')\n",
    "plt.grid()"
   ]
  },
  {
   "cell_type": "raw",
   "id": "c5d413d0",
   "metadata": {},
   "source": [
    "Observation\n",
    "1). There are 3660 values arounnd which 17 are null value.\n",
    "2). Mean price: the average price is 2.5cr\n",
    "3). Median price :  The median (or 50 percentile ) price is 1.5cr\n",
    "4). Data is right skweed\n",
    "5). Standard daviation is 2.5 indicating that there is variabiality in price\n",
    "6). Price ranges from 0.07 cr to 31.5 cr\n",
    " \n",
    "* visualization\n",
    "1). Distribution : The histogram indicate that most property lies inthe range (below 5cr ) and a few property going beyond 10cr.\n",
    "\n",
    "2). Box plot: The box plot showcase the spread of the data and potential outliers. Property price above 10cr approximately can be consider as outlire.\n",
    "\n",
    " "
   ]
  },
  {
   "cell_type": "code",
   "execution_count": 23,
   "id": "d0b23197",
   "metadata": {},
   "outputs": [
    {
     "name": "stdout",
     "output_type": "stream",
     "text": [
      "3.2791704733134623 14.933372629214258\n"
     ]
    }
   ],
   "source": [
    "skewness=df['price'].skew()\n",
    "kurtosis=df['price'].kurt()\n",
    "\n",
    "print(skewness,kurtosis)"
   ]
  },
  {
   "cell_type": "raw",
   "id": "75aef9f2",
   "metadata": {},
   "source": [
    "skewness: The price distribution has a skewness of apporx 3.28 indicating a positive skew. It means the distiribution tail is skewed to the right\n",
    "\n",
    "kurtosis: The kurtosis value is approx 14.9 .A kurtosis value greater than 3 shiws that the a distribution have heaver tail and prone to outlire"
   ]
  },
  {
   "cell_type": "code",
   "execution_count": 24,
   "id": "252eeaf1",
   "metadata": {},
   "outputs": [
    {
     "data": {
      "text/plain": [
       "1.8"
      ]
     },
     "execution_count": 24,
     "metadata": {},
     "output_type": "execute_result"
    }
   ],
   "source": [
    "Q1 = df['price'].describe()['25%']\n",
    "Q3 = df['price'].describe()['75%']\n",
    "\n",
    "IQR = Q3-Q1\n",
    "\n",
    "IQR"
   ]
  },
  {
   "cell_type": "code",
   "execution_count": 25,
   "id": "09302e33",
   "metadata": {},
   "outputs": [
    {
     "name": "stdout",
     "output_type": "stream",
     "text": [
      "-1.7500000000000002 5.45\n"
     ]
    }
   ],
   "source": [
    "lower_bound = Q1-1.5*IQR\n",
    "upper_bound = Q3+1.5*IQR\n",
    "\n",
    "print(lower_bound,upper_bound)"
   ]
  },
  {
   "cell_type": "code",
   "execution_count": 26,
   "id": "c7fdc2af",
   "metadata": {},
   "outputs": [
    {
     "data": {
      "text/plain": [
       "(425, 23)"
      ]
     },
     "execution_count": 26,
     "metadata": {},
     "output_type": "execute_result"
    }
   ],
   "source": [
    "outliers=df[(df['price']<lower_bound) | (df['price']>upper_bound)]\n",
    "outliers.shape"
   ]
  },
  {
   "cell_type": "code",
   "execution_count": 27,
   "id": "fb3b225a",
   "metadata": {},
   "outputs": [
    {
     "data": {
      "text/plain": [
       "count    425.000000\n",
       "mean       9.235624\n",
       "std        4.065259\n",
       "min        5.460000\n",
       "25%        6.460000\n",
       "50%        8.000000\n",
       "75%       10.750000\n",
       "max       31.500000\n",
       "Name: price, dtype: float64"
      ]
     },
     "execution_count": 27,
     "metadata": {},
     "output_type": "execute_result"
    }
   ],
   "source": [
    "outliers['price'].describe()"
   ]
  },
  {
   "cell_type": "raw",
   "id": "9ef2ecc8",
   "metadata": {},
   "source": [
    "Outliers Analysis (using IQR method):\n",
    "\n",
    "1). Based on the IQR method, there are 425 properties considered as outliers.\n",
    "2). These outliers have an average price of approximately 9.24 crores.\n",
    "3). The range for these outliers is from 5.46 crores to 31.5 crores."
   ]
  },
  {
   "cell_type": "code",
   "execution_count": 28,
   "id": "b6245028",
   "metadata": {},
   "outputs": [
    {
     "data": {
      "text/plain": [
       "<AxesSubplot:>"
      ]
     },
     "execution_count": 28,
     "metadata": {},
     "output_type": "execute_result"
    },
    {
     "data": {
      "image/png": "[encoded data removed]",
      "text/plain": [
       "<Figure size 432x288 with 1 Axes>"
      ]
     },
     "metadata": {
      "needs_background": "light"
     },
     "output_type": "display_data"
    }
   ],
   "source": [
    "bins = [0,1,2,3,5,10,20,50]\n",
    "bin_labels=['0-1','1-2','2-3','3-5','5-10','10-20','20-50']\n",
    "pd.cut(df['price'],bins=bins, labels=bin_labels ,right=False).value_counts().sort_index().plot(kind='bar')"
   ]
  },
  {
   "cell_type": "code",
   "execution_count": 29,
   "id": "9a911ce6",
   "metadata": {},
   "outputs": [
    {
     "data": {
      "image/png": "[encoded data removed]",
      "text/plain": [
       "<Figure size 1080x432 with 2 Axes>"
      ]
     },
     "metadata": {
      "needs_background": "light"
     },
     "output_type": "display_data"
    }
   ],
   "source": [
    "plt.figure(figsize=(15, 6))\n",
    "\n",
    "# Distribution plot without log transformation\n",
    "plt.subplot(1, 2, 1)\n",
    "sns.histplot(df['price'], kde=True, bins=50, color='skyblue')\n",
    "plt.title('Distribution of Prices (Original)')\n",
    "plt.xlabel('Price (in Crores)')\n",
    "plt.ylabel('Frequency')\n",
    "\n",
    "# Distribution plot with log transformation\n",
    "plt.subplot(1, 2, 2)\n",
    "sns.histplot(np.log1p(df['price']), kde=True, bins=50, color='lightgreen')\n",
    "plt.title('Distribution of Prices (Log Transformed)')\n",
    "plt.xlabel('Log(Price)')\n",
    "plt.ylabel('Frequency')\n",
    "\n",
    "plt.tight_layout()\n",
    "plt.show()"
   ]
  },
  {
   "cell_type": "markdown",
   "id": "0c31af96",
   "metadata": {},
   "source": [
    "np.log1p(x): This function computes the natural logarithm of 1+x. It's designed to provide more accurate results for values of x that are very close to zero.\n",
    "\n",
    "Using np.log1p helps in transforming the price column while ensuring that any value (including zero, if present) is handled appropriately. When we need to reverse the transformation, we can use np.expm1 which computes e^x-1"
   ]
  },
  {
   "cell_type": "code",
   "execution_count": 34,
   "id": "c7aafac8",
   "metadata": {},
   "outputs": [
    {
     "name": "stdout",
     "output_type": "stream",
     "text": [
      "1.0740709565255315 0.9646692415449296\n"
     ]
    }
   ],
   "source": [
    "skewness = np.log1p(df['price']).skew()\n",
    "kurtosis = np.log1p(df['price']).kurt()\n",
    "\n",
    "print(skewness,kurtosis)"
   ]
  },
  {
   "cell_type": "code",
   "execution_count": 41,
   "id": "8e232515",
   "metadata": {},
   "outputs": [
    {
     "name": "stderr",
     "output_type": "stream",
     "text": [
      "C:\\Users\\santo\\anaconda3\\lib\\site-packages\\seaborn\\_decorators.py:36: FutureWarning: Pass the following variable as a keyword arg: x. From version 0.12, the only valid positional argument will be `data`, and passing other arguments without an explicit keyword will result in an error or misinterpretation.\n",
      "  warnings.warn(\n",
      "C:\\Users\\santo\\anaconda3\\lib\\site-packages\\seaborn\\_decorators.py:36: FutureWarning: Pass the following variable as a keyword arg: x. From version 0.12, the only valid positional argument will be `data`, and passing other arguments without an explicit keyword will result in an error or misinterpretation.\n",
      "  warnings.warn(\n"
     ]
    },
    {
     "data": {
      "text/plain": [
       "Text(0.5, 1.0, 'Distribution of price(log_transformation)')"
      ]
     },
     "execution_count": 41,
     "metadata": {},
     "output_type": "execute_result"
    },
    {
     "data": {
      "image/png": "[encoded data removed]",
      "text/plain": [
       "<Figure size 1080x432 with 2 Axes>"
      ]
     },
     "metadata": {
      "needs_background": "light"
     },
     "output_type": "display_data"
    }
   ],
   "source": [
    "plt.figure(figsize=(15,6))\n",
    "\n",
    "plt.subplot(1,2,1)\n",
    "sns.boxplot(df['price'],color='skyblue')\n",
    "plt.title('DIstribution of price(original)')\n",
    "\n",
    "plt.subplot(1,2,2)\n",
    "sns.boxplot(np.log1p(df['price']),color='red')\n",
    "plt.title('Distribution of price(log_transformation)')"
   ]
  },
  {
   "cell_type": "markdown",
   "id": "bb687598",
   "metadata": {},
   "source": [
    "## price_per_sqft"
   ]
  },
  {
   "cell_type": "code",
   "execution_count": 43,
   "id": "82ef4ee9",
   "metadata": {},
   "outputs": [
    {
     "data": {
      "text/plain": [
       "17"
      ]
     },
     "execution_count": 43,
     "metadata": {},
     "output_type": "execute_result"
    }
   ],
   "source": [
    "df['price_per_sqft'].isnull().sum()"
   ]
  },
  {
   "cell_type": "code",
   "execution_count": 44,
   "id": "16bea053",
   "metadata": {},
   "outputs": [
    {
     "data": {
      "text/plain": [
       "count      3660.000000\n",
       "mean      13892.668306\n",
       "std       23210.067190\n",
       "min           4.000000\n",
       "25%        6817.250000\n",
       "50%        9020.000000\n",
       "75%       13880.500000\n",
       "max      600000.000000\n",
       "Name: price_per_sqft, dtype: float64"
      ]
     },
     "execution_count": 44,
     "metadata": {},
     "output_type": "execute_result"
    }
   ],
   "source": [
    "df['price_per_sqft'].describe()"
   ]
  },
  {
   "cell_type": "code",
   "execution_count": 46,
   "id": "43d7e4b1",
   "metadata": {},
   "outputs": [
    {
     "data": {
      "text/plain": [
       "<AxesSubplot:xlabel='price_per_sqft', ylabel='Count'>"
      ]
     },
     "execution_count": 46,
     "metadata": {},
     "output_type": "execute_result"
    },
    {
     "data": {
      "image/png": "[encoded data removed]",
      "text/plain": [
       "<Figure size 432x288 with 1 Axes>"
      ]
     },
     "metadata": {
      "needs_background": "light"
     },
     "output_type": "display_data"
    }
   ],
   "source": [
    "sns.histplot(df['price_per_sqft'],kde=True,bins=50,color='skyblue')"
   ]
  },
  {
   "cell_type": "code",
   "execution_count": 47,
   "id": "64a02eb5",
   "metadata": {},
   "outputs": [
    {
     "name": "stderr",
     "output_type": "stream",
     "text": [
      "C:\\Users\\santo\\anaconda3\\lib\\site-packages\\seaborn\\_decorators.py:36: FutureWarning: Pass the following variable as a keyword arg: x. From version 0.12, the only valid positional argument will be `data`, and passing other arguments without an explicit keyword will result in an error or misinterpretation.\n",
      "  warnings.warn(\n"
     ]
    },
    {
     "data": {
      "text/plain": [
       "<AxesSubplot:xlabel='price_per_sqft'>"
      ]
     },
     "execution_count": 47,
     "metadata": {},
     "output_type": "execute_result"
    },
    {
     "data": {
      "image/png": "[encoded data removed]",
      "text/plain": [
       "<Figure size 432x288 with 1 Axes>"
      ]
     },
     "metadata": {
      "needs_background": "light"
     },
     "output_type": "display_data"
    }
   ],
   "source": [
    "sns.boxplot(df['price_per_sqft'],color='red')"
   ]
  },
  {
   "cell_type": "markdown",
   "id": "5944233a",
   "metadata": {},
   "source": [
    "The box plot shows the several outliers ,especially on the higher side . The INterquartile range is relatively compact,but ther are many data point beyind the whiskers of the box plot,indicating potential outlier"
   ]
  },
  {
   "cell_type": "markdown",
   "id": "3a1ae593",
   "metadata": {},
   "source": [
    "## bedroom "
   ]
  },
  {
   "cell_type": "code",
   "execution_count": 48,
   "id": "8eb62689",
   "metadata": {},
   "outputs": [
    {
     "data": {
      "text/plain": [
       "0"
      ]
     },
     "execution_count": 48,
     "metadata": {},
     "output_type": "execute_result"
    }
   ],
   "source": [
    "df['bedRoom'].isnull().sum()"
   ]
  },
  {
   "cell_type": "code",
   "execution_count": 49,
   "id": "99c523f1",
   "metadata": {},
   "outputs": [
    {
     "data": {
      "text/plain": [
       "count    3677.000000\n",
       "mean        3.360076\n",
       "std         1.897629\n",
       "min         1.000000\n",
       "25%         2.000000\n",
       "50%         3.000000\n",
       "75%         4.000000\n",
       "max        21.000000\n",
       "Name: bedRoom, dtype: float64"
      ]
     },
     "execution_count": 49,
     "metadata": {},
     "output_type": "execute_result"
    }
   ],
   "source": [
    "df['bedRoom'].describe()"
   ]
  },
  {
   "cell_type": "code",
   "execution_count": 52,
   "id": "b8c3236c",
   "metadata": {},
   "outputs": [
    {
     "data": {
      "text/plain": [
       "<AxesSubplot:>"
      ]
     },
     "execution_count": 52,
     "metadata": {},
     "output_type": "execute_result"
    },
    {
     "data": {
      "image/png": "[encoded data removed]",
      "text/plain": [
       "<Figure size 432x288 with 1 Axes>"
      ]
     },
     "metadata": {
      "needs_background": "light"
     },
     "output_type": "display_data"
    }
   ],
   "source": [
    "df['bedRoom'].value_counts().sort_index().plot(kind='bar')"
   ]
  },
  {
   "cell_type": "code",
   "execution_count": 57,
   "id": "7d9433b0",
   "metadata": {},
   "outputs": [
    {
     "data": {
      "text/plain": [
       "<AxesSubplot:ylabel='bedRoom'>"
      ]
     },
     "execution_count": 57,
     "metadata": {},
     "output_type": "execute_result"
    },
    {
     "data": {
      "image/png": "[encoded data removed]",
      "text/plain": [
       "<Figure size 432x288 with 1 Axes>"
      ]
     },
     "metadata": {},
     "output_type": "display_data"
    }
   ],
   "source": [
    "df['bedRoom'].value_counts(normalize=True).head().plot(kind='pie',autopct='%0.2f%%')"
   ]
  },
  {
   "cell_type": "code",
   "execution_count": 59,
   "id": "9402bb86",
   "metadata": {},
   "outputs": [
    {
     "data": {
      "text/plain": [
       "0"
      ]
     },
     "execution_count": 59,
     "metadata": {},
     "output_type": "execute_result"
    }
   ],
   "source": [
    " df['bathroom'].isnull().sum()"
   ]
  },
  {
   "cell_type": "code",
   "execution_count": 60,
   "id": "ce5555b5",
   "metadata": {},
   "outputs": [
    {
     "data": {
      "text/plain": [
       "<AxesSubplot:>"
      ]
     },
     "execution_count": 60,
     "metadata": {},
     "output_type": "execute_result"
    },
    {
     "data": {
      "image/png": "[encoded data removed]",
      "text/plain": [
       "<Figure size 432x288 with 1 Axes>"
      ]
     },
     "metadata": {
      "needs_background": "light"
     },
     "output_type": "display_data"
    }
   ],
   "source": [
    "df['bathroom'].value_counts().sort_index().plot(kind='bar',color='lightgreen')"
   ]
  },
  {
   "cell_type": "code",
   "execution_count": 66,
   "id": "b1007697",
   "metadata": {},
   "outputs": [
    {
     "data": {
      "text/plain": [
       "<AxesSubplot:ylabel='bathroom'>"
      ]
     },
     "execution_count": 66,
     "metadata": {},
     "output_type": "execute_result"
    },
    {
     "data": {
      "image/png": "[encoded data removed]",
      "text/plain": [
       "<Figure size 432x288 with 1 Axes>"
      ]
     },
     "metadata": {},
     "output_type": "display_data"
    }
   ],
   "source": [
    "df['bathroom'].value_counts().head().plot(kind='pie',autopct='%0.2f%%')"
   ]
  },
  {
   "cell_type": "markdown",
   "id": "a5cb56ad",
   "metadata": {},
   "source": [
    "## balcony"
   ]
  },
  {
   "cell_type": "code",
   "execution_count": 68,
   "id": "abd3f98d",
   "metadata": {},
   "outputs": [
    {
     "data": {
      "text/plain": [
       "0"
      ]
     },
     "execution_count": 68,
     "metadata": {},
     "output_type": "execute_result"
    }
   ],
   "source": [
    "df['balcony'].isnull().sum()"
   ]
  },
  {
   "cell_type": "code",
   "execution_count": 69,
   "id": "69bbd04f",
   "metadata": {},
   "outputs": [
    {
     "data": {
      "text/plain": [
       "<AxesSubplot:>"
      ]
     },
     "execution_count": 69,
     "metadata": {},
     "output_type": "execute_result"
    },
    {
     "data": {
      "image/png": "[encoded data removed]",
      "text/plain": [
       "<Figure size 432x288 with 1 Axes>"
      ]
     },
     "metadata": {
      "needs_background": "light"
     },
     "output_type": "display_data"
    }
   ],
   "source": [
    "df['balcony'].value_counts().plot(kind='bar')"
   ]
  },
  {
   "cell_type": "code",
   "execution_count": 71,
   "id": "951a1fec",
   "metadata": {},
   "outputs": [
    {
     "data": {
      "text/plain": [
       "<AxesSubplot:ylabel='balcony'>"
      ]
     },
     "execution_count": 71,
     "metadata": {},
     "output_type": "execute_result"
    },
    {
     "data": {
      "image/png": "[encoded data removed]",
      "text/plain": [
       "<Figure size 432x288 with 1 Axes>"
      ]
     },
     "metadata": {},
     "output_type": "display_data"
    }
   ],
   "source": [
    "df['balcony'].value_counts().head().plot(kind='pie',autopct='%0.2f%%')"
   ]
  },
  {
   "cell_type": "code",
   "execution_count": 76,
   "id": "5ce9e236",
   "metadata": {},
   "outputs": [
    {
     "data": {
      "text/html": [
       "<div>\n",
       "<style scoped>\n",
       "    .dataframe tbody tr th:only-of-type {\n",
       "        vertical-align: middle;\n",
       "    }\n",
       "\n",
       "    .dataframe tbody tr th {\n",
       "        vertical-align: top;\n",
       "    }\n",
       "\n",
       "    .dataframe thead th {\n",
       "        text-align: right;\n",
       "    }\n",
       "</style>\n",
       "<table border=\"1\" class=\"dataframe\">\n",
       "  <thead>\n",
       "    <tr style=\"text-align: right;\">\n",
       "      <th></th>\n",
       "      <th>balcony</th>\n",
       "      <th>floorNum</th>\n",
       "      <th>facing</th>\n",
       "      <th>agePossession</th>\n",
       "      <th>super_built_up_area</th>\n",
       "      <th>built_up_area</th>\n",
       "      <th>carpet_area</th>\n",
       "      <th>study room</th>\n",
       "      <th>servant room</th>\n",
       "      <th>store room</th>\n",
       "      <th>pooja room</th>\n",
       "      <th>others</th>\n",
       "      <th>furnishing_type</th>\n",
       "      <th>luxury_score</th>\n",
       "    </tr>\n",
       "  </thead>\n",
       "  <tbody>\n",
       "    <tr>\n",
       "      <th>0</th>\n",
       "      <td>2</td>\n",
       "      <td>2.0</td>\n",
       "      <td>NaN</td>\n",
       "      <td>New Property</td>\n",
       "      <td>1081.0</td>\n",
       "      <td>NaN</td>\n",
       "      <td>650.0</td>\n",
       "      <td>0</td>\n",
       "      <td>0</td>\n",
       "      <td>0</td>\n",
       "      <td>0</td>\n",
       "      <td>0</td>\n",
       "      <td>0</td>\n",
       "      <td>8</td>\n",
       "    </tr>\n",
       "    <tr>\n",
       "      <th>1</th>\n",
       "      <td>2</td>\n",
       "      <td>4.0</td>\n",
       "      <td>NaN</td>\n",
       "      <td>New Property</td>\n",
       "      <td>NaN</td>\n",
       "      <td>NaN</td>\n",
       "      <td>1103.0</td>\n",
       "      <td>1</td>\n",
       "      <td>1</td>\n",
       "      <td>0</td>\n",
       "      <td>0</td>\n",
       "      <td>0</td>\n",
       "      <td>0</td>\n",
       "      <td>38</td>\n",
       "    </tr>\n",
       "    <tr>\n",
       "      <th>2</th>\n",
       "      <td>1</td>\n",
       "      <td>0.0</td>\n",
       "      <td>NaN</td>\n",
       "      <td>Under Construction</td>\n",
       "      <td>NaN</td>\n",
       "      <td>NaN</td>\n",
       "      <td>58141.0</td>\n",
       "      <td>0</td>\n",
       "      <td>0</td>\n",
       "      <td>0</td>\n",
       "      <td>0</td>\n",
       "      <td>0</td>\n",
       "      <td>0</td>\n",
       "      <td>15</td>\n",
       "    </tr>\n",
       "    <tr>\n",
       "      <th>3</th>\n",
       "      <td>1</td>\n",
       "      <td>17.0</td>\n",
       "      <td>NaN</td>\n",
       "      <td>New Property</td>\n",
       "      <td>NaN</td>\n",
       "      <td>1000.0</td>\n",
       "      <td>585.0</td>\n",
       "      <td>0</td>\n",
       "      <td>0</td>\n",
       "      <td>0</td>\n",
       "      <td>0</td>\n",
       "      <td>0</td>\n",
       "      <td>0</td>\n",
       "      <td>49</td>\n",
       "    </tr>\n",
       "    <tr>\n",
       "      <th>4</th>\n",
       "      <td>3+</td>\n",
       "      <td>10.0</td>\n",
       "      <td>North-West</td>\n",
       "      <td>Relatively New</td>\n",
       "      <td>1995.0</td>\n",
       "      <td>1615.0</td>\n",
       "      <td>1476.0</td>\n",
       "      <td>0</td>\n",
       "      <td>1</td>\n",
       "      <td>0</td>\n",
       "      <td>0</td>\n",
       "      <td>1</td>\n",
       "      <td>1</td>\n",
       "      <td>174</td>\n",
       "    </tr>\n",
       "  </tbody>\n",
       "</table>\n",
       "</div>"
      ],
      "text/plain": [
       "  balcony  floorNum      facing       agePossession  super_built_up_area  \\\n",
       "0       2       2.0         NaN        New Property               1081.0   \n",
       "1       2       4.0         NaN        New Property                  NaN   \n",
       "2       1       0.0         NaN  Under Construction                  NaN   \n",
       "3       1      17.0         NaN        New Property                  NaN   \n",
       "4      3+      10.0  North-West      Relatively New               1995.0   \n",
       "\n",
       "   built_up_area  carpet_area  study room  servant room  store room  \\\n",
       "0            NaN        650.0           0             0           0   \n",
       "1            NaN       1103.0           1             1           0   \n",
       "2            NaN      58141.0           0             0           0   \n",
       "3         1000.0        585.0           0             0           0   \n",
       "4         1615.0       1476.0           0             1           0   \n",
       "\n",
       "   pooja room  others  furnishing_type  luxury_score  \n",
       "0           0       0                0             8  \n",
       "1           0       0                0            38  \n",
       "2           0       0                0            15  \n",
       "3           0       0                0            49  \n",
       "4           0       1                1           174  "
      ]
     },
     "execution_count": 76,
     "metadata": {},
     "output_type": "execute_result"
    }
   ],
   "source": [
    "df.iloc[:,9:].head(5)"
   ]
  },
  {
   "cell_type": "code",
   "execution_count": 77,
   "id": "7a46dd8f",
   "metadata": {},
   "outputs": [
    {
     "data": {
      "text/plain": [
       "19"
      ]
     },
     "execution_count": 77,
     "metadata": {},
     "output_type": "execute_result"
    }
   ],
   "source": [
    "df['floorNum'].isnull().sum()"
   ]
  },
  {
   "cell_type": "code",
   "execution_count": 78,
   "id": "2f806ca7",
   "metadata": {},
   "outputs": [
    {
     "data": {
      "text/plain": [
       "count    3658.000000\n",
       "mean        6.798250\n",
       "std         6.012454\n",
       "min         0.000000\n",
       "25%         2.000000\n",
       "50%         5.000000\n",
       "75%        10.000000\n",
       "max        51.000000\n",
       "Name: floorNum, dtype: float64"
      ]
     },
     "execution_count": 78,
     "metadata": {},
     "output_type": "execute_result"
    }
   ],
   "source": [
    "df['floorNum'].describe()"
   ]
  },
  {
   "cell_type": "code",
   "execution_count": 79,
   "id": "a4c80990",
   "metadata": {},
   "outputs": [
    {
     "data": {
      "text/plain": [
       "<AxesSubplot:>"
      ]
     },
     "execution_count": 79,
     "metadata": {},
     "output_type": "execute_result"
    },
    {
     "data": {
      "image/png": "[encoded data removed]",
      "text/plain": [
       "<Figure size 432x288 with 1 Axes>"
      ]
     },
     "metadata": {
      "needs_background": "light"
     },
     "output_type": "display_data"
    }
   ],
   "source": [
    "df['floorNum'].value_counts().sort_index().plot(kind='bar')"
   ]
  },
  {
   "cell_type": "code",
   "execution_count": 80,
   "id": "7ae287e2",
   "metadata": {},
   "outputs": [
    {
     "name": "stderr",
     "output_type": "stream",
     "text": [
      "C:\\Users\\santo\\anaconda3\\lib\\site-packages\\seaborn\\_decorators.py:36: FutureWarning: Pass the following variable as a keyword arg: x. From version 0.12, the only valid positional argument will be `data`, and passing other arguments without an explicit keyword will result in an error or misinterpretation.\n",
      "  warnings.warn(\n"
     ]
    },
    {
     "data": {
      "text/plain": [
       "<AxesSubplot:xlabel='floorNum'>"
      ]
     },
     "execution_count": 80,
     "metadata": {},
     "output_type": "execute_result"
    },
    {
     "data": {
      "image/png": "[encoded data removed]",
      "text/plain": [
       "<Figure size 432x288 with 1 Axes>"
      ]
     },
     "metadata": {
      "needs_background": "light"
     },
     "output_type": "display_data"
    }
   ],
   "source": [
    "sns.boxplot(df['floorNum'],)"
   ]
  },
  {
   "cell_type": "markdown",
   "id": "5b7dfa42",
   "metadata": {},
   "source": [
    "## Facing"
   ]
  },
  {
   "cell_type": "code",
   "execution_count": 81,
   "id": "a7e5515a",
   "metadata": {},
   "outputs": [
    {
     "data": {
      "text/plain": [
       "1045"
      ]
     },
     "execution_count": 81,
     "metadata": {},
     "output_type": "execute_result"
    }
   ],
   "source": [
    "df['facing'].isnull().sum()"
   ]
  },
  {
   "cell_type": "code",
   "execution_count": 84,
   "id": "c4cbc4f8",
   "metadata": {},
   "outputs": [],
   "source": [
    "df['facing'].fillna('NA',inplace=True)"
   ]
  },
  {
   "cell_type": "code",
   "execution_count": 85,
   "id": "ca603aa1",
   "metadata": {},
   "outputs": [
    {
     "data": {
      "text/plain": [
       "NA            1045\n",
       "North-East     623\n",
       "East           623\n",
       "North          387\n",
       "West           249\n",
       "South          231\n",
       "North-West     193\n",
       "South-East     173\n",
       "South-West     153\n",
       "Name: facing, dtype: int64"
      ]
     },
     "execution_count": 85,
     "metadata": {},
     "output_type": "execute_result"
    }
   ],
   "source": [
    "df['facing'].value_counts()"
   ]
  },
  {
   "cell_type": "markdown",
   "id": "002fb30f",
   "metadata": {},
   "source": [
    "## age possession"
   ]
  },
  {
   "cell_type": "code",
   "execution_count": 86,
   "id": "89b59a08",
   "metadata": {},
   "outputs": [
    {
     "data": {
      "text/plain": [
       "0"
      ]
     },
     "execution_count": 86,
     "metadata": {},
     "output_type": "execute_result"
    }
   ],
   "source": [
    "df['agePossession'].isnull().sum()"
   ]
  },
  {
   "cell_type": "code",
   "execution_count": 87,
   "id": "cf16881b",
   "metadata": {},
   "outputs": [
    {
     "data": {
      "text/plain": [
       "Relatively New        1646\n",
       "New Property           593\n",
       "Moderately Old         563\n",
       "Undefined              306\n",
       "Old Property           303\n",
       "Under Construction     266\n",
       "Name: agePossession, dtype: int64"
      ]
     },
     "execution_count": 87,
     "metadata": {},
     "output_type": "execute_result"
    }
   ],
   "source": [
    "df['agePossession'].value_counts()"
   ]
  },
  {
   "cell_type": "code",
   "execution_count": 88,
   "id": "a52a2f12",
   "metadata": {},
   "outputs": [
    {
     "data": {
      "text/plain": [
       "<AxesSubplot:>"
      ]
     },
     "execution_count": 88,
     "metadata": {},
     "output_type": "execute_result"
    },
    {
     "data": {
      "image/png": "[encoded data removed]",
      "text/plain": [
       "<Figure size 432x288 with 1 Axes>"
      ]
     },
     "metadata": {
      "needs_background": "light"
     },
     "output_type": "display_data"
    }
   ],
   "source": [
    "df['agePossession'].value_counts().plot(kind='bar')"
   ]
  },
  {
   "cell_type": "markdown",
   "id": "37e3f1e8",
   "metadata": {},
   "source": [
    "## area"
   ]
  },
  {
   "cell_type": "code",
   "execution_count": 90,
   "id": "4a5ede21",
   "metadata": {},
   "outputs": [
    {
     "data": {
      "text/plain": [
       "1802"
      ]
     },
     "execution_count": 90,
     "metadata": {},
     "output_type": "execute_result"
    }
   ],
   "source": [
    "#super_builtup_area\n",
    "df['super_built_up_area'].isnull().sum()"
   ]
  },
  {
   "cell_type": "code",
   "execution_count": 91,
   "id": "808a5d2a",
   "metadata": {},
   "outputs": [
    {
     "data": {
      "text/plain": [
       "count     1875.000000\n",
       "mean      1925.237627\n",
       "std        764.172177\n",
       "min         89.000000\n",
       "25%       1479.500000\n",
       "50%       1828.000000\n",
       "75%       2215.000000\n",
       "max      10000.000000\n",
       "Name: super_built_up_area, dtype: float64"
      ]
     },
     "execution_count": 91,
     "metadata": {},
     "output_type": "execute_result"
    }
   ],
   "source": [
    "df['super_built_up_area'].describe()"
   ]
  },
  {
   "cell_type": "code",
   "execution_count": 93,
   "id": "f912fb78",
   "metadata": {},
   "outputs": [
    {
     "data": {
      "text/plain": [
       "<AxesSubplot:xlabel='super_built_up_area', ylabel='Count'>"
      ]
     },
     "execution_count": 93,
     "metadata": {},
     "output_type": "execute_result"
    },
    {
     "data": {
      "image/png": "[encoded data removed]",
      "text/plain": [
       "<Figure size 432x288 with 1 Axes>"
      ]
     },
     "metadata": {
      "needs_background": "light"
     },
     "output_type": "display_data"
    }
   ],
   "source": [
    "sns.histplot(df['super_built_up_area'].dropna(),bins=50,kde=True,color='skyblue')"
   ]
  },
  {
   "cell_type": "code",
   "execution_count": 96,
   "id": "abaa954c",
   "metadata": {
    "scrolled": true
   },
   "outputs": [
    {
     "data": {
      "text/plain": [
       "<AxesSubplot:xlabel='super_built_up_area'>"
      ]
     },
     "execution_count": 96,
     "metadata": {},
     "output_type": "execute_result"
    },
    {
     "data": {
      "image/png": "[encoded data removed]",
      "text/plain": [
       "<Figure size 432x288 with 1 Axes>"
      ]
     },
     "metadata": {
      "needs_background": "light"
     },
     "output_type": "display_data"
    }
   ],
   "source": [
    "sns.boxplot(df['super_built_up_area'].dropna())"
   ]
  },
  {
   "cell_type": "raw",
   "id": "b2cfad4f",
   "metadata": {},
   "source": [
    "1). Most properties have a super built-up area ranging between approximately 1,000 sq.ft and 2,500 sq.ft.\n",
    "2). There are a few properties with a significantly larger area, leading to a right-skewed distribution.\n",
    "3). The interquartile range (IQR) lies between roughly 1,480 sq.ft and 2,215 sq.ft, indicating that the middle 50% of the properties fall within this range.\n",
    "4). There are several data points beyond the upper \"whisker\" of the box plot, indicating potential outliers. These are properties with an unusually large super built-up area."
   ]
  },
  {
   "cell_type": "code",
   "execution_count": 97,
   "id": "175640c2",
   "metadata": {},
   "outputs": [
    {
     "data": {
      "text/plain": [
       "1987"
      ]
     },
     "execution_count": 97,
     "metadata": {},
     "output_type": "execute_result"
    }
   ],
   "source": [
    "#built_up_area\n",
    "df['built_up_area'].isnull().sum()\n"
   ]
  },
  {
   "cell_type": "code",
   "execution_count": 98,
   "id": "c38caaf8",
   "metadata": {},
   "outputs": [
    {
     "data": {
      "text/plain": [
       "count      1690.000000\n",
       "mean       2379.585816\n",
       "std       17942.880237\n",
       "min           2.000000\n",
       "25%        1100.000000\n",
       "50%        1650.000000\n",
       "75%        2400.000000\n",
       "max      737147.000000\n",
       "Name: built_up_area, dtype: float64"
      ]
     },
     "execution_count": 98,
     "metadata": {},
     "output_type": "execute_result"
    }
   ],
   "source": [
    "df['built_up_area'].describe()"
   ]
  },
  {
   "cell_type": "code",
   "execution_count": 99,
   "id": "848d125d",
   "metadata": {},
   "outputs": [
    {
     "name": "stderr",
     "output_type": "stream",
     "text": [
      "C:\\Users\\santo\\anaconda3\\lib\\site-packages\\seaborn\\_decorators.py:36: FutureWarning: Pass the following variable as a keyword arg: x. From version 0.12, the only valid positional argument will be `data`, and passing other arguments without an explicit keyword will result in an error or misinterpretation.\n",
      "  warnings.warn(\n"
     ]
    },
    {
     "data": {
      "text/plain": [
       "<AxesSubplot:xlabel='built_up_area'>"
      ]
     },
     "execution_count": 99,
     "metadata": {},
     "output_type": "execute_result"
    },
    {
     "data": {
      "image/png": "[encoded data removed]",
      "text/plain": [
       "<Figure size 432x288 with 1 Axes>"
      ]
     },
     "metadata": {
      "needs_background": "light"
     },
     "output_type": "display_data"
    }
   ],
   "source": [
    "sns.boxplot(df['built_up_area'].dropna())"
   ]
  },
  {
   "cell_type": "code",
   "execution_count": 102,
   "id": "25e8e38b",
   "metadata": {},
   "outputs": [
    {
     "data": {
      "text/plain": [
       "<AxesSubplot:xlabel='built_up_area', ylabel='Count'>"
      ]
     },
     "execution_count": 102,
     "metadata": {},
     "output_type": "execute_result"
    },
    {
     "data": {
      "image/png": "[encoded data removed]",
      "text/plain": [
       "<Figure size 432x288 with 1 Axes>"
      ]
     },
     "metadata": {
      "needs_background": "light"
     },
     "output_type": "display_data"
    }
   ],
   "source": [
    "sns.histplot(df['built_up_area'].dropna(),kde=False,bins=50)"
   ]
  },
  {
   "cell_type": "raw",
   "id": "c2baab09",
   "metadata": {},
   "source": [
    "1). Most properties have a built-up area ranging roughly between 500 sq.ft and 3,500 sq.ft.\n",
    "2). There are very few properties with a much larger built-up area, leading to a highly right-skewed distribution.\n",
    "3). The box plot confirms the presence of significant outliers on the higher side. The data's interquartile range (IQR) is relatively compact, but the \"whiskers\" of the box plot are stretched due to the outliers.\n",
    "4). The presence of extreme values, especially on the higher side, suggests that there may be outliers or data errors. This could also be due to some properties being exceptionally large, like a commercial complex or an entire building being listed."
   ]
  },
  {
   "cell_type": "code",
   "execution_count": 103,
   "id": "dc4a4816",
   "metadata": {},
   "outputs": [
    {
     "data": {
      "text/plain": [
       "1805"
      ]
     },
     "execution_count": 103,
     "metadata": {},
     "output_type": "execute_result"
    }
   ],
   "source": [
    "#carpet\n",
    "df['carpet_area'].isnull().sum()"
   ]
  },
  {
   "cell_type": "code",
   "execution_count": 104,
   "id": "6d212068",
   "metadata": {},
   "outputs": [
    {
     "data": {
      "text/plain": [
       "count      1872.000000\n",
       "mean       2529.179507\n",
       "std       22799.836449\n",
       "min          15.000000\n",
       "25%         843.000000\n",
       "50%        1300.000000\n",
       "75%        1790.000000\n",
       "max      607936.000000\n",
       "Name: carpet_area, dtype: float64"
      ]
     },
     "execution_count": 104,
     "metadata": {},
     "output_type": "execute_result"
    }
   ],
   "source": [
    "df['carpet_area'].describe()"
   ]
  },
  {
   "cell_type": "code",
   "execution_count": 107,
   "id": "6c4d5a9a",
   "metadata": {},
   "outputs": [
    {
     "data": {
      "text/plain": [
       "<AxesSubplot:xlabel='carpet_area', ylabel='Count'>"
      ]
     },
     "execution_count": 107,
     "metadata": {},
     "output_type": "execute_result"
    },
    {
     "data": {
      "image/png": "[encoded data removed]",
      "text/plain": [
       "<Figure size 432x288 with 1 Axes>"
      ]
     },
     "metadata": {
      "needs_background": "light"
     },
     "output_type": "display_data"
    }
   ],
   "source": [
    "sns.histplot(df['carpet_area'].dropna(),kde=False,bins=50)"
   ]
  },
  {
   "cell_type": "code",
   "execution_count": 108,
   "id": "9e285e3e",
   "metadata": {},
   "outputs": [
    {
     "name": "stderr",
     "output_type": "stream",
     "text": [
      "C:\\Users\\santo\\anaconda3\\lib\\site-packages\\seaborn\\_decorators.py:36: FutureWarning: Pass the following variable as a keyword arg: x. From version 0.12, the only valid positional argument will be `data`, and passing other arguments without an explicit keyword will result in an error or misinterpretation.\n",
      "  warnings.warn(\n"
     ]
    },
    {
     "data": {
      "text/plain": [
       "<AxesSubplot:xlabel='carpet_area'>"
      ]
     },
     "execution_count": 108,
     "metadata": {},
     "output_type": "execute_result"
    },
    {
     "data": {
      "image/png": "[encoded data removed]",
      "text/plain": [
       "<Figure size 432x288 with 1 Axes>"
      ]
     },
     "metadata": {
      "needs_background": "light"
     },
     "output_type": "display_data"
    }
   ],
   "source": [
    "sns.boxplot(df['carpet_area'].dropna())"
   ]
  },
  {
   "cell_type": "code",
   "execution_count": 110,
   "id": "3218980e",
   "metadata": {},
   "outputs": [
    {
     "data": {
      "text/html": [
       "<div>\n",
       "<style scoped>\n",
       "    .dataframe tbody tr th:only-of-type {\n",
       "        vertical-align: middle;\n",
       "    }\n",
       "\n",
       "    .dataframe tbody tr th {\n",
       "        vertical-align: top;\n",
       "    }\n",
       "\n",
       "    .dataframe thead th {\n",
       "        text-align: right;\n",
       "    }\n",
       "</style>\n",
       "<table border=\"1\" class=\"dataframe\">\n",
       "  <thead>\n",
       "    <tr style=\"text-align: right;\">\n",
       "      <th></th>\n",
       "      <th>carpet_area</th>\n",
       "      <th>study room</th>\n",
       "      <th>servant room</th>\n",
       "      <th>store room</th>\n",
       "      <th>pooja room</th>\n",
       "      <th>others</th>\n",
       "      <th>furnishing_type</th>\n",
       "      <th>luxury_score</th>\n",
       "    </tr>\n",
       "  </thead>\n",
       "  <tbody>\n",
       "    <tr>\n",
       "      <th>0</th>\n",
       "      <td>650.0</td>\n",
       "      <td>0</td>\n",
       "      <td>0</td>\n",
       "      <td>0</td>\n",
       "      <td>0</td>\n",
       "      <td>0</td>\n",
       "      <td>0</td>\n",
       "      <td>8</td>\n",
       "    </tr>\n",
       "    <tr>\n",
       "      <th>1</th>\n",
       "      <td>1103.0</td>\n",
       "      <td>1</td>\n",
       "      <td>1</td>\n",
       "      <td>0</td>\n",
       "      <td>0</td>\n",
       "      <td>0</td>\n",
       "      <td>0</td>\n",
       "      <td>38</td>\n",
       "    </tr>\n",
       "    <tr>\n",
       "      <th>2</th>\n",
       "      <td>58141.0</td>\n",
       "      <td>0</td>\n",
       "      <td>0</td>\n",
       "      <td>0</td>\n",
       "      <td>0</td>\n",
       "      <td>0</td>\n",
       "      <td>0</td>\n",
       "      <td>15</td>\n",
       "    </tr>\n",
       "    <tr>\n",
       "      <th>3</th>\n",
       "      <td>585.0</td>\n",
       "      <td>0</td>\n",
       "      <td>0</td>\n",
       "      <td>0</td>\n",
       "      <td>0</td>\n",
       "      <td>0</td>\n",
       "      <td>0</td>\n",
       "      <td>49</td>\n",
       "    </tr>\n",
       "    <tr>\n",
       "      <th>4</th>\n",
       "      <td>1476.0</td>\n",
       "      <td>0</td>\n",
       "      <td>1</td>\n",
       "      <td>0</td>\n",
       "      <td>0</td>\n",
       "      <td>1</td>\n",
       "      <td>1</td>\n",
       "      <td>174</td>\n",
       "    </tr>\n",
       "  </tbody>\n",
       "</table>\n",
       "</div>"
      ],
      "text/plain": [
       "   carpet_area  study room  servant room  store room  pooja room  others  \\\n",
       "0        650.0           0             0           0           0       0   \n",
       "1       1103.0           1             1           0           0       0   \n",
       "2      58141.0           0             0           0           0       0   \n",
       "3        585.0           0             0           0           0       0   \n",
       "4       1476.0           0             1           0           0       1   \n",
       "\n",
       "   furnishing_type  luxury_score  \n",
       "0                0             8  \n",
       "1                0            38  \n",
       "2                0            15  \n",
       "3                0            49  \n",
       "4                1           174  "
      ]
     },
     "execution_count": 110,
     "metadata": {},
     "output_type": "execute_result"
    }
   ],
   "source": [
    "df.iloc[:,15:].head(5)"
   ]
  },
  {
   "cell_type": "markdown",
   "id": "0e1795ca",
   "metadata": {},
   "source": [
    "## additional rooms"
   ]
  },
  {
   "cell_type": "code",
   "execution_count": 113,
   "id": "d2b68167",
   "metadata": {},
   "outputs": [
    {
     "data": {
      "image/png": "[encoded data removed]",
      "text/plain": [
       "<Figure size 1440x864 with 5 Axes>"
      ]
     },
     "metadata": {},
     "output_type": "display_data"
    }
   ],
   "source": [
    "plt.figure(figsize=(20, 12))\n",
    "\n",
    "# Create a subplot of pie charts for each room type\n",
    "for idx, room in enumerate(['study room','servant room','store room','pooja room','others'], 1):\n",
    "    ax = plt.subplot(2, 3, idx)\n",
    "    df[room].value_counts().plot.pie(autopct='%1.1f%%', startangle=90, ax=ax)\n",
    "    plt.title(f'Distribution of {room.title()}')\n",
    "    plt.ylabel('')\n",
    "\n",
    "plt.tight_layout()\n",
    "plt.show()"
   ]
  },
  {
   "cell_type": "code",
   "execution_count": 124,
   "id": "03d5b44c",
   "metadata": {},
   "outputs": [
    {
     "data": {
      "image/png": "[encoded data removed]",
      "text/plain": [
       "<Figure size 1440x864 with 5 Axes>"
      ]
     },
     "metadata": {},
     "output_type": "display_data"
    }
   ],
   "source": [
    "plt.figure(figsize=(20,12))\n",
    "\n",
    "for idx, room in enumerate(['study room','servant room','store room','pooja room','others'], 1):\n",
    "    ax=plt.subplot(2,3,idx)\n",
    "    df[room].value_counts().plot.pie(autopct='%1.1f%%',startangle=90,ax=ax)\n",
    "    plt.title(f'Distribution of {room.title()}')\n",
    "    plt.ylabel('')\n",
    "    \n",
    "\n",
    "plt.tight_layout()\n",
    "plt.show()\n",
    "    "
   ]
  },
  {
   "cell_type": "markdown",
   "id": "b3864525",
   "metadata": {},
   "source": [
    "## furnishing"
   ]
  },
  {
   "cell_type": "code",
   "execution_count": 125,
   "id": "a8b7f4a9",
   "metadata": {},
   "outputs": [
    {
     "data": {
      "text/plain": [
       "0"
      ]
     },
     "execution_count": 125,
     "metadata": {},
     "output_type": "execute_result"
    }
   ],
   "source": [
    "df['furnishing_type'].isnull().sum()"
   ]
  },
  {
   "cell_type": "code",
   "execution_count": 127,
   "id": "2d75b6f4",
   "metadata": {},
   "outputs": [
    {
     "data": {
      "text/plain": [
       "0    2411\n",
       "1    1059\n",
       "2     207\n",
       "Name: furnishing_type, dtype: int64"
      ]
     },
     "execution_count": 127,
     "metadata": {},
     "output_type": "execute_result"
    }
   ],
   "source": [
    "df['furnishing_type'].value_counts()"
   ]
  },
  {
   "cell_type": "code",
   "execution_count": 128,
   "id": "2fb64db2",
   "metadata": {},
   "outputs": [
    {
     "data": {
      "text/plain": [
       "<AxesSubplot:ylabel='furnishing_type'>"
      ]
     },
     "execution_count": 128,
     "metadata": {},
     "output_type": "execute_result"
    },
    {
     "data": {
      "image/png": "[encoded data removed]",
      "text/plain": [
       "<Figure size 432x288 with 1 Axes>"
      ]
     },
     "metadata": {},
     "output_type": "display_data"
    }
   ],
   "source": [
    "df['furnishing_type'].value_counts().plot(kind='pie',autopct='%1.1f%%')"
   ]
  },
  {
   "cell_type": "markdown",
   "id": "ea3426f1",
   "metadata": {},
   "source": [
    "## luxury_score "
   ]
  },
  {
   "cell_type": "code",
   "execution_count": 130,
   "id": "a01dae81",
   "metadata": {},
   "outputs": [
    {
     "data": {
      "text/plain": [
       "0"
      ]
     },
     "execution_count": 130,
     "metadata": {},
     "output_type": "execute_result"
    }
   ],
   "source": [
    "df['luxury_score'].isnull().sum()"
   ]
  },
  {
   "cell_type": "code",
   "execution_count": 131,
   "id": "727fc569",
   "metadata": {},
   "outputs": [
    {
     "data": {
      "text/plain": [
       "count    3677.000000\n",
       "mean       71.512918\n",
       "std        53.059082\n",
       "min         0.000000\n",
       "25%        31.000000\n",
       "50%        59.000000\n",
       "75%       110.000000\n",
       "max       174.000000\n",
       "Name: luxury_score, dtype: float64"
      ]
     },
     "execution_count": 131,
     "metadata": {},
     "output_type": "execute_result"
    }
   ],
   "source": [
    "df['luxury_score'].describe()"
   ]
  },
  {
   "cell_type": "code",
   "execution_count": 132,
   "id": "6d6a46ea",
   "metadata": {},
   "outputs": [
    {
     "data": {
      "text/plain": [
       "<AxesSubplot:xlabel='luxury_score', ylabel='Count'>"
      ]
     },
     "execution_count": 132,
     "metadata": {},
     "output_type": "execute_result"
    },
    {
     "data": {
      "image/png": "[encoded data removed]",
      "text/plain": [
       "<Figure size 432x288 with 1 Axes>"
      ]
     },
     "metadata": {
      "needs_background": "light"
     },
     "output_type": "display_data"
    }
   ],
   "source": [
    "sns.histplot(df['luxury_score'],color='skyblue',bins=50,kde=True)"
   ]
  },
  {
   "cell_type": "code",
   "execution_count": 133,
   "id": "a0a3236d",
   "metadata": {},
   "outputs": [
    {
     "name": "stderr",
     "output_type": "stream",
     "text": [
      "C:\\Users\\santo\\anaconda3\\lib\\site-packages\\seaborn\\_decorators.py:36: FutureWarning: Pass the following variable as a keyword arg: x. From version 0.12, the only valid positional argument will be `data`, and passing other arguments without an explicit keyword will result in an error or misinterpretation.\n",
      "  warnings.warn(\n"
     ]
    },
    {
     "data": {
      "text/plain": [
       "<AxesSubplot:xlabel='luxury_score'>"
      ]
     },
     "execution_count": 133,
     "metadata": {},
     "output_type": "execute_result"
    },
    {
     "data": {
      "image/png": "[encoded data removed]",
      "text/plain": [
       "<Figure size 432x288 with 1 Axes>"
      ]
     },
     "metadata": {
      "needs_background": "light"
     },
     "output_type": "display_data"
    }
   ],
   "source": [
    "sns.boxplot(df['luxury_score'])"
   ]
  },
  {
   "cell_type": "raw",
   "id": "a5464fcc",
   "metadata": {},
   "source": [
    "The luxury score distribution has multiple peaks, suggesting a multi-modal distribution. There's a significant number of properties with lower luxury scores (around 0-50), and another peak is observed around the 110-130 range.\n",
    "\n",
    "The box plot reveals that the majority of the properties have luxury scores between approximately 30 and 110. The interquartile range (IQR) lies between these values."
   ]
  },
  {
   "cell_type": "code",
   "execution_count": null,
   "id": "856db06d",
   "metadata": {},
   "outputs": [],
   "source": []
  },
  {
   "cell_type": "code",
   "execution_count": null,
   "id": "a4137c9d",
   "metadata": {},
   "outputs": [],
   "source": []
  }
 ],
 "metadata": {
  "kernelspec": {
   "display_name": "Python 3 (ipykernel)",
   "language": "python",
   "name": "python3"
  },
  "language_info": {
   "codemirror_mode": {
    "name": "ipython",
    "version": 3
   },
   "file_extension": ".py",
   "mimetype": "text/x-python",
   "name": "python",
   "nbconvert_exporter": "python",
   "pygments_lexer": "ipython3",
   "version": "3.9.12"
  }
 },
 "nbformat": 4,
 "nbformat_minor": 5
}
